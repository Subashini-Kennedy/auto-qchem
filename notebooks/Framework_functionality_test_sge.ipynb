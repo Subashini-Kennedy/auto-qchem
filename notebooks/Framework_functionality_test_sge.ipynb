{
 "cells": [
  {
   "cell_type": "markdown",
   "metadata": {},
   "source": [
    "### Import classes from autoqchem"
   ]
  },
  {
   "cell_type": "code",
   "execution_count": 1,
   "metadata": {},
   "outputs": [],
   "source": [
    "from autoqchem.molecule import molecule\n",
    "from autoqchem.sge_manager import sge_manager\n",
    "from autoqchem.draw_utils import draw"
   ]
  },
  {
   "cell_type": "markdown",
   "metadata": {},
   "source": [
    "### Set the level of logging\n",
    "Autoqchem prints out log messages, while the logger has various verbosity levels that you can set. If you are running for the first time \"INFO\" is good, once you are comfortable you can switch it to \"WARNING\" or \"ERROR\"."
   ]
  },
  {
   "cell_type": "code",
   "execution_count": 2,
   "metadata": {},
   "outputs": [],
   "source": [
    "import logging\n",
    "logging.basicConfig(level=logging.INFO)"
   ]
  },
  {
   "cell_type": "markdown",
   "metadata": {},
   "source": [
    "We will use a single smiles string for this test"
   ]
  },
  {
   "cell_type": "code",
   "execution_count": 3,
   "metadata": {},
   "outputs": [],
   "source": [
    "smiles_str = \"C(C)(CP(c1ccccc1)c1ccccc1)(CP(c1ccccc1)c1ccccc1)[4CH2][1P]([2c]1ccccc1)[3c]1ccccc1\""
   ]
  },
  {
   "cell_type": "markdown",
   "metadata": {},
   "source": [
    "### Initialize the molecule from smiles"
   ]
  },
  {
   "cell_type": "code",
   "execution_count": 4,
   "metadata": {},
   "outputs": [],
   "source": [
    "mol = molecule(smiles_str, num_conf=20)"
   ]
  },
  {
   "cell_type": "markdown",
   "metadata": {},
   "source": [
    "### Draw it!\n",
    "It should look decent, OpenBabel performs MMFF94 optimization with a conformer search. If it doesn't look good, there might be issues with openbabel installation (this is rare, but can happen)."
   ]
  },
  {
   "cell_type": "code",
   "execution_count": 5,
   "metadata": {},
   "outputs": [
    {
     "data": {
      "application/vnd.jupyter.widget-view+json": {
       "model_id": "b0bc44c428e946939cbc84e0aa2ab580",
       "version_major": 2,
       "version_minor": 0
      },
      "text/plain": [
       "interactive(children=(Dropdown(description='confId', options=(0, 1, 2, 3, 4, 5, 6, 7, 8, 9, 10, 11, 12), value…"
      ]
     },
     "metadata": {},
     "output_type": "display_data"
    },
    {
     "data": {
      "text/plain": [
       "<function autoqchem.draw_utils._graph_conf(m, confId=0, energies=[])>"
      ]
     },
     "execution_count": 5,
     "metadata": {},
     "output_type": "execute_result"
    }
   ],
   "source": [
    "draw(mol.mol)"
   ]
  },
  {
   "cell_type": "markdown",
   "metadata": {},
   "source": [
    "### Test whether you can access SGE on Hoffman2 at UCLA\n",
    "If you have an account on Hoffman2, change host to ```hoffman2.idre.ucla.edu```."
   ]
  },
  {
   "cell_type": "markdown",
   "metadata": {},
   "source": [
    "### Initialize the sge manager\n",
    "change user parameter to your user"
   ]
  },
  {
   "cell_type": "code",
   "execution_count": 6,
   "metadata": {},
   "outputs": [],
   "source": [
    "sm = sge_manager(user='wgee', host='hoffman2.idre.ucla.edu')"
   ]
  },
  {
   "cell_type": "markdown",
   "metadata": {},
   "source": [
    "### Verify that you can create an ssh tunnel into the remote server\n",
    "Follow prompts for password and duo authentication. This tunnel will be used to manage jobs from within the notebook"
   ]
  },
  {
   "cell_type": "code",
   "execution_count": 7,
   "metadata": {},
   "outputs": [
    {
     "name": "stderr",
     "output_type": "stream",
     "text": [
      "INFO:autoqchem.sge_manager:Creating connection to hoffman2.idre.ucla.edu as wgee\n",
      "INFO:paramiko.transport:Connected (version 2.0, client OpenSSH_7.4)\n",
      "INFO:paramiko.transport:Authentication (password) successful!\n",
      "INFO:autoqchem.sge_manager:Connected to hoffman2.idre.ucla.edu as wgee.\n"
     ]
    }
   ],
   "source": [
    "sm.connect()"
   ]
  },
  {
   "cell_type": "markdown",
   "metadata": {},
   "source": [
    "### Check that you can see your jobs on the remote server\n",
    "If the following command returns a table with your jobs currently running on the server, it's a success. If you have no jobs running, only a header row will be displayed."
   ]
  },
  {
   "cell_type": "code",
   "execution_count": 8,
   "metadata": {},
   "outputs": [
    {
     "name": "stdout",
     "output_type": "stream",
     "text": [
      "job-ID     prior   name       user         state submit/start at     queue                          jclass                         slots ja-task-ID \n",
      "------------------------------------------------------------------------------------------------------------------------------------------------\n",
      "   7357811 0.50500 WQZGKKKJIJ wgee         r     05/19/2023 11:23:23 pod_ib100_apollo2.q@n6676                                         4        \n",
      "   7357815 0.50500 WQZGKKKJIJ wgee         r     05/19/2023 11:23:23 pod_ib100_apollo2.q@n6676                                         4        \n",
      "   7357819 0.50500 WQZGKKKJIJ wgee         r     05/19/2023 11:23:30 pod_apollo_6140.q@n6643                                           4        \n",
      "   7357824 0.50500 WQZGKKKJIJ wgee         r     05/19/2023 11:23:30 pod_apollo_6140.q@n7672                                           4        \n",
      "   7357828 0.50500 WQZGKKKJIJ wgee         r     05/19/2023 11:23:30 pod_apollo_6140.q@n7670                                           4        \n",
      "   7357833 0.50500 WQZGKKKJIJ wgee         r     05/19/2023 11:23:38 pod_ib100_apollo3.q@n7661                                         4        \n",
      "   7357836 0.50500 WQZGKKKJIJ wgee         r     05/19/2023 11:23:38 pod_ib100_apollo3.q@n7672                                         4        \n",
      "   7357841 0.50500 WQZGKKKJIJ wgee         r     05/19/2023 11:23:38 pod_ib100_apollo3.q@n7670                                         4        \n",
      "   7357846 0.50500 WQZGKKKJIJ wgee         r     05/19/2023 11:23:45 pod_ib100_apollo5.q@n1841                                         4        \n",
      "   7357850 0.50500 WQZGKKKJIJ wgee         r     05/19/2023 11:23:45 pod_ib100_apollo5.q@n1839                                         4        \n"
     ]
    }
   ],
   "source": [
    "sm.qstat(summary=False)"
   ]
  },
  {
   "cell_type": "code",
   "execution_count": null,
   "metadata": {},
   "outputs": [],
   "source": []
  }
 ],
 "metadata": {
  "kernelspec": {
   "display_name": "Python 3.9.13 64-bit ('3.9.13')",
   "language": "python",
   "name": "python3"
  },
  "language_info": {
   "codemirror_mode": {
    "name": "ipython",
    "version": 3
   },
   "file_extension": ".py",
   "mimetype": "text/x-python",
   "name": "python",
   "nbconvert_exporter": "python",
   "pygments_lexer": "ipython3",
   "version": "3.9.13"
  },
  "vscode": {
   "interpreter": {
    "hash": "75934cf67ebde6f7dd5cca3b6d679ee9d52aabd0098557c6f9034056a96918b4"
   }
  }
 },
 "nbformat": 4,
 "nbformat_minor": 2
}
